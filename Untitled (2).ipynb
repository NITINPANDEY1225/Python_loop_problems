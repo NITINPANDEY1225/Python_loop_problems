{
 "cells": [
  {
   "cell_type": "code",
   "execution_count": 3,
   "id": "3e147349-7623-4445-82d6-7aef83c74265",
   "metadata": {},
   "outputs": [
    {
     "name": "stdout",
     "output_type": "stream",
     "text": [
      "1\n",
      "2\n",
      "3\n",
      "4\n",
      "5\n",
      "6\n",
      "7\n",
      "8\n",
      "9\n",
      "10\n"
     ]
    }
   ],
   "source": [
    "#1. Write a Python program to print the numbers from 1 to 10 using a `for` loop.\n",
    "\n",
    "\n",
    "for x in range(1,11):\n",
    "    print(x)"
   ]
  },
  {
   "cell_type": "code",
   "execution_count": 24,
   "id": "8e78af62-77d1-4d7d-bab7-406a60208201",
   "metadata": {},
   "outputs": [
    {
     "name": "stdout",
     "output_type": "stream",
     "text": [
      "the sum of the numbers in the list if  1\n",
      "the sum of the numbers in the list if  3\n",
      "the sum of the numbers in the list if  6\n"
     ]
    }
   ],
   "source": [
    "#2. Create a program that calculates the sum of all numbers in a list using a `for` loop.\n",
    "s = [1,2,3]\n",
    "e = 0 \n",
    "for i in s :\n",
    "    e +=  i\n",
    "    print(\"the sum of the numbers in the list if \" ,e)\n"
   ]
  },
  {
   "cell_type": "code",
   "execution_count": 11,
   "id": "92359760-2810-41cf-984f-e3c43102a80c",
   "metadata": {},
   "outputs": [
    {
     "name": "stdout",
     "output_type": "stream",
     "text": [
      "y\n",
      "ye\n",
      "yed\n",
      "yedn\n",
      "yedna\n",
      "yednap\n",
      "yednap \n",
      "yednap n\n",
      "yednap ni\n",
      "yednap nit\n",
      "yednap niti\n",
      "yednap nitin\n"
     ]
    }
   ],
   "source": [
    "#3. Write a program to print the characters of a string in reverse order using a `for` loop.\n",
    "\n",
    "input_string = \"nitin pandey\"\n",
    "reversed_string = ''\n",
    "for i in reversed (input_string):\n",
    "    reversed_string += i\n",
    "    print (reversed_string)"
   ]
  },
  {
   "cell_type": "code",
   "execution_count": 58,
   "id": "80c0ee49-ce14-486f-ac7b-792cb95e984a",
   "metadata": {},
   "outputs": [
    {
     "name": "stdout",
     "output_type": "stream",
     "text": [
      "1\n",
      "2\n",
      "6\n",
      "24\n",
      "120\n"
     ]
    }
   ],
   "source": [
    "#4. Develop a program that finds the factorial of a given number using a `for` loop.\n",
    "\n",
    "num = 5\n",
    "factorial = 1\n",
    "for i in range (1,num + 1 ):\n",
    "    factorial *= i\n",
    "    print (factorial)"
   ]
  },
  {
   "cell_type": "code",
   "execution_count": 21,
   "id": "d329a315-7dbd-49bb-a16d-2806c8764eeb",
   "metadata": {},
   "outputs": [
    {
     "name": "stdin",
     "output_type": "stream",
     "text": [
      "enter a number  10\n"
     ]
    },
    {
     "name": "stdout",
     "output_type": "stream",
     "text": [
      "1 2 3 4 5 6 7 8 9 10 \n",
      "2 4 6 8 10 12 14 16 18 20 \n",
      "3 6 9 12 15 18 21 24 27 30 \n",
      "4 8 12 16 20 24 28 32 36 40 \n",
      "5 10 15 20 25 30 35 40 45 50 \n",
      "6 12 18 24 30 36 42 48 54 60 \n",
      "7 14 21 28 35 42 49 56 63 70 \n",
      "8 16 24 32 40 48 56 64 72 80 \n",
      "9 18 27 36 45 54 63 72 81 90 \n",
      "10 20 30 40 50 60 70 80 90 100 \n"
     ]
    }
   ],
   "source": [
    "#5. Create a program to print the multiplication table of a given number using a `for` loop.\n",
    "\n",
    "num = int (input ( \"enter a number \"))\n",
    "for i in range (1,num+1):\n",
    "    for j in range ( 1 , num + 1 ):\n",
    "        print (i*j,end= ' '  )\n",
    "    print()"
   ]
  },
  {
   "cell_type": "code",
   "execution_count": null,
   "id": "aed67f1b-0c44-4b9c-bd2c-9559d9dd1456",
   "metadata": {},
   "outputs": [
    {
     "name": "stdin",
     "output_type": "stream",
     "text": [
      "enter numbers of elements  5\n",
      " 7\n",
      " 6\n",
      " 3\n",
      " 9\n",
      " 5\n"
     ]
    },
    {
     "name": "stdout",
     "output_type": "stream",
     "text": [
      "[7, 6, 3, 9, 5]\n",
      "7 number is odd\n",
      "6 number is enen\n",
      "3 number is odd\n",
      "9 number is odd\n",
      "5 number is odd\n",
      "even no  [6]  =  1\n",
      "odd no [7, 3, 9, 5]  =  4\n"
     ]
    }
   ],
   "source": [
    "#6. Write a program that counts the number of even and odd numbers in a list using a `for` ln \n",
    "\n",
    "n = int ( input(\"enter numbers of elements \"))\n",
    "list = []\n",
    "for i in range (n):\n",
    "    x = int (input())\n",
    "    list.append(x)\n",
    "print(list)\n",
    "\n",
    "even_no =[]\n",
    "odd_no =[]\n",
    "for i in list:\n",
    "    if i % 2 ==0:\n",
    "        print (i , \"number is enen\")\n",
    "        even_no.append(i)\n",
    "        \n",
    "    else:\n",
    "        print (i, \"number is odd\")\n",
    "        odd_no.append(i)\n",
    "print(\"even no \",even_no,\" = \",len(even_no))\n",
    "print(\"odd no\",odd_no,\" = \",len (odd_no))\n",
    "\n",
    "\n"
   ]
  },
  {
   "cell_type": "code",
   "execution_count": 29,
   "id": "53b51279-e80d-46cb-a456-346478b09361",
   "metadata": {},
   "outputs": [
    {
     "name": "stdout",
     "output_type": "stream",
     "text": [
      "1 2 3 4 5 \n",
      "1 2 3 4 5 \n",
      "1 2 3 4 5 \n",
      "1 2 3 4 5 \n",
      "1 2 3 4 5 \n"
     ]
    }
   ],
   "source": [
    "#7. Develop a program that prints the squares of numbers from 1 to 5 using a `for` loop.\n",
    "\n",
    "for i in range (1,6):\n",
    "    for j in range (1,6):\n",
    "        print(j,end= ' '  )\n",
    "    print()"
   ]
  },
  {
   "cell_type": "code",
   "execution_count": 4,
   "id": "ffbdd80e-ab88-4cf9-b1a8-c5fd25bd9c52",
   "metadata": {},
   "outputs": [
    {
     "name": "stdout",
     "output_type": "stream",
     "text": [
      "15\n"
     ]
    }
   ],
   "source": [
    "#8. Create a program to find the length of a string without using the `len()` function.\n",
    "s1 = \"nitin pamdey ji\"\n",
    "s2 = 0\n",
    "for i in  s1:\n",
    "    s2 = s2+ 1\n",
    "print(s2)\n",
    "    \n",
    "\n",
    "    \n",
    "    "
   ]
  },
  {
   "cell_type": "code",
   "execution_count": null,
   "id": "fb3445e3-c2d1-4a3a-9234-11ab1eb35b73",
   "metadata": {},
   "outputs": [],
   "source": [
    "#9. Write a program that calculates the average of a list of numbers using a `for` loop.\n",
    "\n",
    "l1 = int (input(\"enter elements of list\"))\n",
    "l2 = []\n",
    "for i in range(l1):\n",
    "    x =int (input())\n",
    "    l2.append(x)\n",
    "print(l2)\n",
    "          \n",
    "l3 = 0 \n",
    "for i in l2 :\n",
    "    l3 = l3 + i \n",
    "print ( \"average of list l3  =    \",l3//len(l2))\n",
    "\n"
   ]
  },
  {
   "cell_type": "code",
   "execution_count": 1,
   "id": "74519c0b-dace-4008-b067-d654b22c066f",
   "metadata": {},
   "outputs": [
    {
     "name": "stdin",
     "output_type": "stream",
     "text": [
      "Enter the number of Fibonacci numbers to generate:  5\n"
     ]
    },
    {
     "name": "stdout",
     "output_type": "stream",
     "text": [
      "[0, 1, 1, 2, 3, 5, 8]\n",
      "The first 5 Fibonacci numbers are: [0, 1, 1, 2, 3, 5, 8]\n"
     ]
    }
   ],
   "source": [
    "#10. Develop a program that prints the first `n` Fibonacci numbers using a `for` loop.\n",
    "n = int(input(\"Enter the number of Fibonacci numbers to generate: \"))\n",
    "fibo = [0,1]\n",
    "for i in range (n):\n",
    "    x = fibo[-1]+fibo[-2]\n",
    "    fibo.append(x)\n",
    "print(fibo)\n",
    "\n",
    "\n",
    "if n <= 0:\n",
    "    print(\"Please enter a positive integer.\")\n",
    "else:\n",
    "    print(\"The first\", n, \"Fibonacci numbers are:\", fibo)\n"
   ]
  },
  {
   "cell_type": "code",
   "execution_count": null,
   "id": "37ead242-0760-4de5-836f-b24cc9a1656d",
   "metadata": {},
   "outputs": [],
   "source": []
  },
  {
   "cell_type": "code",
   "execution_count": 25,
   "id": "5d2177ae-3ae3-4b8d-ae35-59dce31fc920",
   "metadata": {},
   "outputs": [
    {
     "name": "stdout",
     "output_type": "stream",
     "text": [
      "[5, 9, 1]\n"
     ]
    }
   ],
   "source": [
    "#11. Write a ,rogram to check if a given list contains any duplicates using a `for` loop\n",
    "list1 = [6,5,5,9,3,2,1,9,7,1]\n",
    "uni = [ ] \n",
    "dup = [ ] \n",
    "for i in list1:\n",
    "    if i not in uni:\n",
    "        uni.append(i)\n",
    "    elif i not in dup :\n",
    "        dup.append(i)\n",
    "print(dup)"
   ]
  },
  {
   "cell_type": "code",
   "execution_count": 6,
   "id": "6dd3afb0-8569-41ed-9cd8-46c6b18448b2",
   "metadata": {},
   "outputs": [
    {
     "name": "stdout",
     "output_type": "stream",
     "text": [
      "[9, 11, 13, 15, 17, 19, 21, 23, 25, 27, 29]\n"
     ]
    }
   ],
   "source": [
    "#12. Create a program that prints the prime numbers in a given range using a `for` loop\n",
    "x = []\n",
    "for i in range (9,30):\n",
    "    if i % 2 != 0:\n",
    "        x.append(i)\n",
    "print(x)\n"
   ]
  },
  {
   "cell_type": "code",
   "execution_count": 9,
   "id": "0a7fca97-2326-4551-b770-b58d14f1f8aa",
   "metadata": {},
   "outputs": [
    {
     "name": "stdout",
     "output_type": "stream",
     "text": [
      "['i', 'i', 'a', 'e'] number of vowels is =  4\n"
     ]
    }
   ],
   "source": [
    "#13. Develop a program that counts the number of vowels in a string using a `for` loop\n",
    "name = \"nitin pandey\"\n",
    "vowel  =  ('a','e','i','o','u')\n",
    "no_of_vowel = []\n",
    "\n",
    "for i in name :\n",
    "    if i in vowel:\n",
    "        no_of_vowel.append(i)\n",
    "    \n",
    "print (no_of_vowel, \"number of vowels is = \", len(no_of_vowel))"
   ]
  },
  {
   "cell_type": "code",
   "execution_count": 8,
   "id": "852877e4-49b1-4894-90d1-6ce8aaea6106",
   "metadata": {},
   "outputs": [
    {
     "name": "stdout",
     "output_type": "stream",
     "text": [
      "[0, 0, 0, 0]\n",
      "[0, 0, 0, 0]\n"
     ]
    }
   ],
   "source": [
    "#14. Write a program to find the maximum element in a 2D list using a nested `for` loop.\\\n",
    "\n",
    "rows = 2\n",
    "cols = 4\n",
    "\n",
    "matrix = []\n",
    "\n",
    "for i in range(rows):\n",
    "    row = []\n",
    "    for j in range(cols):\n",
    "        row.append(0)\n",
    "    matrix.append(row)\n",
    "\n",
    "for row in matrix:\n",
    "    print(row)\n"
   ]
  },
  {
   "cell_type": "code",
   "execution_count": 6,
   "id": "993f00d8-34e0-4fe3-a4cc-56246bc44f3c",
   "metadata": {},
   "outputs": [
    {
     "name": "stdout",
     "output_type": "stream",
     "text": [
      "[1, 3, 4, 5, 6, 3]\n"
     ]
    }
   ],
   "source": [
    "#15. Create a program that removes all occurrences of a specific element from a list using a `for` loop.\n",
    "my_list = [1, 2, 3, 4, 2, 5, 6,3, 2]\n",
    "element_to_remove = 2\n",
    "result = []\n",
    "\n",
    "for item in my_list \n",
    "    if item != element_to_remove:\n",
    "         result.append(item)\n",
    "  \n",
    "\n",
    "print(result)\n"
   ]
  },
  {
   "cell_type": "code",
   "execution_count": 18,
   "id": "7d25bd4d-bead-4011-8017-aa8bae8aedd6",
   "metadata": {},
   "outputs": [
    {
     "name": "stdout",
     "output_type": "stream",
     "text": [
      "multiply table for 1\n",
      "1 x 1 = 1\n",
      "1 x 2 = 2\n",
      "1 x 3 = 3\n",
      "1 x 4 = 4\n",
      "1 x 5 = 5\n",
      "1 x 6 = 6\n",
      "1 x 7 = 7\n",
      "1 x 8 = 8\n",
      "1 x 9 = 9\n",
      "1 x 10 = 10\n",
      "\n",
      "multiply table for 2\n",
      "2 x 1 = 2\n",
      "2 x 2 = 4\n",
      "2 x 3 = 6\n",
      "2 x 4 = 8\n",
      "2 x 5 = 10\n",
      "2 x 6 = 12\n",
      "2 x 7 = 14\n",
      "2 x 8 = 16\n",
      "2 x 9 = 18\n",
      "2 x 10 = 20\n",
      "\n",
      "multiply table for 3\n",
      "3 x 1 = 3\n",
      "3 x 2 = 6\n",
      "3 x 3 = 9\n",
      "3 x 4 = 12\n",
      "3 x 5 = 15\n",
      "3 x 6 = 18\n",
      "3 x 7 = 21\n",
      "3 x 8 = 24\n",
      "3 x 9 = 27\n",
      "3 x 10 = 30\n",
      "\n",
      "multiply table for 4\n",
      "4 x 1 = 4\n",
      "4 x 2 = 8\n",
      "4 x 3 = 12\n",
      "4 x 4 = 16\n",
      "4 x 5 = 20\n",
      "4 x 6 = 24\n",
      "4 x 7 = 28\n",
      "4 x 8 = 32\n",
      "4 x 9 = 36\n",
      "4 x 10 = 40\n",
      "\n",
      "multiply table for 5\n",
      "5 x 1 = 5\n",
      "5 x 2 = 10\n",
      "5 x 3 = 15\n",
      "5 x 4 = 20\n",
      "5 x 5 = 25\n",
      "5 x 6 = 30\n",
      "5 x 7 = 35\n",
      "5 x 8 = 40\n",
      "5 x 9 = 45\n",
      "5 x 10 = 50\n",
      "\n"
     ]
    }
   ],
   "source": [
    "\n",
    "#16. Develop a program that generates a multiplication table for numbers from 1 to 5 using a nested `for` loop.\n",
    "\n",
    "for i in range (1,6):\n",
    "    print(f\"multiply table for {i}\")\n",
    "    for j in range (1,11):\n",
    "        print(f\"{i} x {j} = {i*j}\")\n",
    "    print()\n",
    "    \n"
   ]
  },
  {
   "cell_type": "code",
   "execution_count": 20,
   "id": "2de45038-d7eb-462c-87e1-b599c4723f9d",
   "metadata": {},
   "outputs": [
    {
     "name": "stdout",
     "output_type": "stream",
     "text": [
      "Fahrenheit Temperatures: [32, 68, 100, 212]\n",
      "Celsius Temperatures: [0.0, 20.0, 37.77777777777778, 100.0]\n"
     ]
    }
   ],
   "source": [
    "#17. Write a program that converts a list of Fahrenheit temperatures to Celsius using a `for` loop.\n",
    "    \n",
    "fahrenheit_temperatures = [32, 68, 100, 212]\n",
    "celsius_temperatures = []\n",
    "for fahrenheit in fahrenheit_temperatures:\n",
    "    celsius = (fahrenheit - 32) * 5/9\n",
    "    celsius_temperatures.append(celsius)\n",
    "\n",
    "print(\"Fahrenheit Temperatures:\", fahrenheit_temperatures)\n",
    "print(\"Celsius Temperatures:\", celsius_temperatures)\n",
    "\n",
    "              \n",
    "    "
   ]
  },
  {
   "cell_type": "code",
   "execution_count": 4,
   "id": "ba1f1b28-733d-402a-8627-4acd24cb5152",
   "metadata": {},
   "outputs": [
    {
     "name": "stdout",
     "output_type": "stream",
     "text": [
      "6\n",
      "3\n",
      "7\n",
      "\n"
     ]
    }
   ],
   "source": [
    "#18. Create a program to print the common elements from two lists using a `for` loop.\n",
    "x = [2,4,6,8,3,7]\n",
    "y = [1,3,5,7,6,9]\n",
    "\n",
    "commanelement = []\n",
    "\n",
    "for i in x :\n",
    "    for j in y :\n",
    "        if i == j:\n",
    "            commanelement.append(i)\n",
    "            print(i)\n",
    "print()\n",
    "    "
   ]
  },
  {
   "cell_type": "code",
   "execution_count": 22,
   "id": "a039f603-5a2a-4a36-8cba-d625ab8823d4",
   "metadata": {},
   "outputs": [
    {
     "name": "stdout",
     "output_type": "stream",
     "text": [
      "* \n",
      "* * \n",
      "* * * \n",
      "* * * * \n",
      "* * * * * \n"
     ]
    }
   ],
   "source": [
    "#19. Develop a program that prints the pattern of right-angled triangles using a `for` loop. Use ‘*’ to draw the \n",
    "#pattern\n",
    "\n",
    "for i in range(1, 6):\n",
    "    for j in range(i):\n",
    "        print(\"*\", end=\" \")\n",
    "    print() \n",
    "    "
   ]
  },
  {
   "cell_type": "code",
   "execution_count": 52,
   "id": "a78b4212-7159-4fad-93de-42e2deb2b797",
   "metadata": {},
   "outputs": [
    {
     "name": "stdin",
     "output_type": "stream",
     "text": [
      "Enter the first number:  84\n",
      "Enter the second number:  64\n"
     ]
    },
    {
     "name": "stdout",
     "output_type": "stream",
     "text": [
      "4\n"
     ]
    }
   ],
   "source": [
    "#20. Write a program to find the greatest common divisor (GCD) of two numbers using a `for` loop\n",
    "\n",
    "\n",
    "num1 = int(input(\"Enter the first number: \"))\n",
    "num2 = int(input(\"Enter the second number: \"))\n",
    "\n",
    "smaller = min(num1, num2)\n",
    "\n",
    "x = 1\n",
    "\n",
    "for i in range(1, smaller + 1):\n",
    "    if num1 % i == 0 and num2 % i == 0:\n",
    "        x = i\n",
    "\n",
    "print(x)\n"
   ]
  },
  {
   "cell_type": "code",
   "execution_count": 51,
   "id": "d0fba3eb-ca27-45e9-ae2b-023977797b76",
   "metadata": {},
   "outputs": [
    {
     "name": "stdout",
     "output_type": "stream",
     "text": [
      "jai shree ram\n"
     ]
    }
   ],
   "source": [
    "print('jai shree ram')"
   ]
  },
  {
   "cell_type": "code",
   "execution_count": 55,
   "id": "7e438fed-256c-4e5c-a2e6-88ecc616ec06",
   "metadata": {},
   "outputs": [
    {
     "name": "stdin",
     "output_type": "stream",
     "text": [
      "Enter a list of numbers separated by spaces:  6549946\n"
     ]
    },
    {
     "name": "stdout",
     "output_type": "stream",
     "text": [
      "Number: 6549946, Sum of Digits: 43\n"
     ]
    }
   ],
   "source": [
    "#21. Create a program that calculates the sum of the digits of numbers in a list using a list comprehension\n",
    "\n",
    "numbers_str = input(\"Enter a list of numbers separated by spaces: \")\n",
    "numbers = list(map(int, numbers_str.split()))\n",
    "sums_of_digits = [sum(int(digit) for digit in str(number)) for number in numbers]\n",
    "for i in range(len(numbers)):\n",
    "    print(f\"Number: {numbers[i]}, Sum of Digits: {sums_of_digits[i]}\")\n",
    "    \n"
   ]
  },
  {
   "cell_type": "code",
   "execution_count": 12,
   "id": "a3e5d434-2bcf-44ec-b810-62de09c9e8a9",
   "metadata": {},
   "outputs": [
    {
     "name": "stdin",
     "output_type": "stream",
     "text": [
      "Enter the starting number:  2\n",
      "Enter the ending number:  5\n"
     ]
    },
    {
     "name": "stdout",
     "output_type": "stream",
     "text": [
      "Prime numbers in the range from 2 to 5 are: [2, 3, 4, 5]\n"
     ]
    }
   ],
   "source": [
    "#22. Write a program to find the prime factors of a given number using a `for` loop and list comprehension\n",
    "\n",
    "\n",
    "start = int(input(\"Enter the starting number: \"))\n",
    "end = int(input(\"Enter the ending number: \"))\n",
    "prime_numbers = [num for num in range(start, end + 1) if num > 1  if ( num % i != 0 for i in range(2, int(num**0.5) + 1))]\n",
    "print(\"Prime numbers in the range from\", start, \"to\", end, \"are:\", prime_numbers)\n",
    "\n",
    "       \n"
   ]
  },
  {
   "cell_type": "code",
   "execution_count": 17,
   "id": "d481f494-8d4d-4c62-839b-6751ff1d92e3",
   "metadata": {},
   "outputs": [
    {
     "name": "stdin",
     "output_type": "stream",
     "text": [
      "Enter a list of elements separated by spaces:  5,8,7,9\n"
     ]
    },
    {
     "name": "stdout",
     "output_type": "stream",
     "text": [
      "Unique elements in the list are: ['5,8,7,9']\n"
     ]
    }
   ],
   "source": [
    "'''23---  You can create a Python program that extracts unique elements from a list and stores \n",
    "them in a new list using a list comprehension. Here's an examplec '''\n",
    "\n",
    "\n",
    "elements_str = input(\"Enter a list of elements separated by spaces: \")\n",
    "elements = elements_str.split()\n",
    "unique_elements = [element for index, element in enumerate(elements) if element not in elements[:index]]\n",
    "print(\"Unique elements in the list are:\", unique_elements)\n"
   ]
  },
  {
   "cell_type": "code",
   "execution_count": 36,
   "id": "8baa60b9-cf47-4099-bdb1-3b0ec66d5849",
   "metadata": {},
   "outputs": [
    {
     "name": "stdin",
     "output_type": "stream",
     "text": [
      "Enter the upper limit:  8\n"
     ]
    },
    {
     "name": "stdout",
     "output_type": "stream",
     "text": [
      "Palindromic numbers up to 8 are: [0, 1, 2, 3, 4, 5, 6, 7, 8]\n"
     ]
    }
   ],
   "source": [
    "'''24. Create a program that generates a list of all palindromic numbers up to a specified limit using a list\n",
    "comprehension'''\n",
    "\n",
    "limit = int(input(\"Enter the upper limit: \"))\n",
    "\n",
    "palindromic_numbers = [num for num in range(limit + 1) if str(num) == str(num)[::-1]]\n",
    "\n",
    "print(\"Palindromic numbers up to\", limit, \"are:\", palindromic_numbers)\n"
   ]
  },
  {
   "cell_type": "code",
   "execution_count": 37,
   "id": "84421331-a945-4a43-afba-9eff884ce3ab",
   "metadata": {},
   "outputs": [
    {
     "name": "stdin",
     "output_type": "stream",
     "text": [
      "Enter a nested list separated by commas:  5,4,7,\n"
     ]
    },
    {
     "name": "stdout",
     "output_type": "stream",
     "text": [
      "Flattened list: [5, 4, 7]\n"
     ]
    }
   ],
   "source": [
    "'''25. Write a program to flatten a nested list using list comprehension'''\n",
    "\n",
    "nested_list_str = input(\"Enter a nested list separated by commas: \")\n",
    "\n",
    "nested_list = [eval(nested_list_str)]\n",
    "\n",
    "flattened_list = [element for sublist in nested_list for element in sublist]\n",
    "\n",
    "print(\"Flattened list:\", flattened_list)\n"
   ]
  },
  {
   "cell_type": "code",
   "execution_count": 44,
   "id": "0e689f0e-ce7f-4f93-8831-c59cf3a46008",
   "metadata": {},
   "outputs": [
    {
     "name": "stdin",
     "output_type": "stream",
     "text": [
      "Enter a list of numbers separated by spaces:  5 6 3 \n"
     ]
    },
    {
     "name": "stdout",
     "output_type": "stream",
     "text": [
      "Sum of even numbers: 6\n",
      "Sum of odd numbers: 8\n"
     ]
    }
   ],
   "source": [
    "'''26. Develop a program that computes the sum of even and odd numbers in a list separately using list\n",
    "comprehension.'''\n",
    "numbers_str = input(\"Enter a list of numbers separated by spaces: \")\n",
    "\n",
    "numbers = list(map(int, numbers_str.split()))\n",
    "\n",
    "even_sum = sum([num for num in numbers if num % 2 == 0])\n",
    "odd_sum = sum([num for num in numbers if num % 2 != 0])\n",
    "\n",
    "print(\"Sum of even numbers:\", even_sum)\n",
    "print(\"Sum of odd numbers:\", odd_sum)\n"
   ]
  },
  {
   "cell_type": "code",
   "execution_count": 45,
   "id": "6390f17f-58c2-413f-8cde-58fa734acd9f",
   "metadata": {},
   "outputs": [
    {
     "name": "stdout",
     "output_type": "stream",
     "text": [
      "Squares of odd numbers between 1 and 10: [1, 9, 25, 49, 81]\n"
     ]
    }
   ],
   "source": [
    "'''27. You can create a Python program that generates a list of squares of odd\n",
    "numbers between 1 and 10 using list comprehension. Here's how you can do it:'''\n",
    "\n",
    "squares_of_odd_numbers = [num ** 2 for num in range(1, 11) if num % 2 != 0]\n",
    "\n",
    "print(\"Squares of odd numbers between 1 and 10:\", squares_of_odd_numbers)\n"
   ]
  },
  {
   "cell_type": "code",
   "execution_count": 50,
   "id": "c93488da-02d2-4b94-987b-678acc5f31b6",
   "metadata": {},
   "outputs": [
    {
     "name": "stdin",
     "output_type": "stream",
     "text": [
      "Enter a list of keys separated by spaces:   4 5 6 4 \n",
      "Enter a list of values separated by spaces:  5  7 9  3 \n"
     ]
    },
    {
     "name": "stdout",
     "output_type": "stream",
     "text": [
      "Combined dictionary: {'4': '3', '5': '7', '6': '9'}\n"
     ]
    }
   ],
   "source": [
    "#28. Write a program that combines two lists into a dictionary using list comprehension.\n",
    "\n",
    "\n",
    "keys_str = input(\"Enter a list of keys separated by spaces: \")\n",
    "values_str = input(\"Enter a list of values separated by spaces: \")\n",
    "keys = keys_str.split()\n",
    "values = values_str.split()\n",
    "combined_dict = {key: value for key, value in zip(keys, values)}\n",
    "print(\"Combined dictionary:\", combined_dict)\n"
   ]
  },
  {
   "cell_type": "code",
   "execution_count": 16,
   "id": "c7576187-3dbd-4fba-beb9-4c93f922e32c",
   "metadata": {},
   "outputs": [
    {
     "name": "stdin",
     "output_type": "stream",
     "text": [
      "enter a name ashu raj pal pandey\n"
     ]
    },
    {
     "name": "stdout",
     "output_type": "stream",
     "text": [
      "['a', 'u', 'a', 'a', 'a', 'e']\n"
     ]
    }
   ],
   "source": [
    "#29. Develop a program that extracts the vowels from a string and stores them in a list using list comprehension\n",
    "\n",
    "str1 = str(input('enter a name'))\n",
    "vovle  = ['a', 'e','i','o','u']\n",
    "vovleinstring = [i for i in str1 if i in vovle]\n",
    "print(vovleinstring)"
   ]
  },
  {
   "cell_type": "code",
   "execution_count": 2,
   "id": "7b1750af-ead9-4389-88e2-d9995b385b69",
   "metadata": {},
   "outputs": [
    {
     "name": "stdin",
     "output_type": "stream",
     "text": [
      "Enter a list of strings separated by spaces:  54 5 \n"
     ]
    },
    {
     "name": "stdout",
     "output_type": "stream",
     "text": [
      "List of strings with non-numeric characters removed:\n",
      "54\n",
      "5\n"
     ]
    }
   ],
   "source": [
    "#30. Create a program that removes all non-numeric characters from a list of strings using list comprehension\n",
    "\n",
    "\n",
    "strings = input(\"Enter a list of strings separated by spaces: \").split()\n",
    "numeric_strings = []\n",
    "\n",
    "for string in strings:\n",
    "    numeric_string = ''.join(char for char in string if char.isdigit())\n",
    "    numeric_strings.append(numeric_string)\n",
    "\n",
    "print(\"List of strings with non-numeric characters removed:\")\n",
    "for numeric_string in numeric_strings:\n",
    "    print(numeric_string)\n"
   ]
  },
  {
   "cell_type": "code",
   "execution_count": 35,
   "id": "5b6151fa-aea0-49e5-b6d9-32b64555ecdd",
   "metadata": {},
   "outputs": [
    {
     "name": "stdin",
     "output_type": "stream",
     "text": [
      "Enter the upper limit:  10\n"
     ]
    },
    {
     "name": "stdout",
     "output_type": "stream",
     "text": [
      "Prime numbers up to 10 are: [2, 3, 5, 7]\n"
     ]
    }
   ],
   "source": [
    "'''31. Write a program to generate a list of prime numbers using the Sieve of Eratosthenes algorithm and list\n",
    "comprehension.'''\n",
    "\n",
    "limit = int(input(\"Enter the upper limit: \"))\n",
    "\n",
    "is_prime = [True] * (limit + 1)\n",
    "is_prime[0] = is_prime[1] = False\n",
    "\n",
    "for num in range(2, int(limit**0.5) + 1):\n",
    "    if is_prime[num]:\n",
    "        for multiple in range(num * num, limit + 1, num):\n",
    "            is_prime[multiple] = False\n",
    "\n",
    "prime_numbers = [num for num in range(2, limit + 1) if is_prime[num]]\n",
    "\n",
    "print(\"Prime numbers up to\", limit, \"are:\", prime_numbers)\n",
    "\n"
   ]
  },
  {
   "cell_type": "code",
   "execution_count": 37,
   "id": "bc0fc3bf-10b6-4190-86b5-5019e9cefb30",
   "metadata": {},
   "outputs": [
    {
     "name": "stdin",
     "output_type": "stream",
     "text": [
      "Enter the upper limit:  40\n"
     ]
    },
    {
     "name": "stdout",
     "output_type": "stream",
     "text": [
      "Pythagorean triplets up to 40 are: [(3, 4, 5), (6, 8, 10), (5, 12, 13), (9, 12, 15), (8, 15, 17), (12, 16, 20), (15, 20, 25), (7, 24, 25), (10, 24, 26), (20, 21, 29), (18, 24, 30), (16, 30, 34), (21, 28, 35), (12, 35, 37), (15, 36, 39), (24, 32, 40)]\n"
     ]
    }
   ],
   "source": [
    "'''32. Create a program that generates a list of all Pythagorean triplets up to a specified limit using list\n",
    "comprehension'''\n",
    "\n",
    "\n",
    "limit = int(input(\"Enter the upper limit: \"))\n",
    "\n",
    "pythagorean_triplets = [(a, b, c) for c in range(1, limit + 1)\n",
    "                        for b in range(1, c)\n",
    "                        for a in range(1, b)\n",
    "                        if a**2 + b**2 == c**2]\n",
    "\n",
    "print(\"Pythagorean triplets up to\", limit, \"are:\", pythagorean_triplets)\n"
   ]
  },
  {
   "cell_type": "code",
   "execution_count": 3,
   "id": "c5b8f781-6259-4795-8ed3-840c083cd16c",
   "metadata": {},
   "outputs": [
    {
     "name": "stdin",
     "output_type": "stream",
     "text": [
      "enter the first list separated by spaces: 4  6 5 \n",
      "enter the second list separated by spaxes: 4 5 6 \n"
     ]
    },
    {
     "name": "stdout",
     "output_type": "stream",
     "text": [
      "['4', '6', '5']\n",
      "['4', '5', '6']\n",
      "All possible combinations of the two lists:\n",
      "['5', '8']\n"
     ]
    }
   ],
   "source": [
    "#33. Develop a program that generates a list of all possible combinations of two lists using list comprehension.\n",
    "list1  = input('enter the first list separated by spaces:').split()\n",
    "list2  = input('enter the second list separated by spaxes:').split()\n",
    "print(list1)\n",
    "print(list2)\n",
    "\n",
    "\n",
    "combinations = [[i , j ] for i in list1 for j in list2]\n",
    "\n",
    "print(\"All possible combinations of the two lists:\")\n",
    "\n",
    "for combination in combinations:\n",
    "    print(combination)\n",
    "    \n",
    "    \n",
    "    \n",
    "    \n"
   ]
  },
  {
   "cell_type": "code",
   "execution_count": 10,
   "id": "1b965129-badc-49fd-bca2-2743225d2073",
   "metadata": {},
   "outputs": [
    {
     "name": "stdout",
     "output_type": "stream",
     "text": [
      "mean:   4.181818181818182\n",
      "median:   5\n",
      "mode:    [6]\n"
     ]
    }
   ],
   "source": [
    "'''#34. Write a program that calculates the mean, median, \n",
    "        and mode of a list of numbers using list comprehension.'''\n",
    "\n",
    "from collections import Counter \n",
    "\n",
    "num = [1,2,2,3,4,5,5,6,6,6,6]\n",
    "sum_num = 0\n",
    "for i in num :\n",
    "    sum_num += i\n",
    "mean = sum_num/len(num)\n",
    "sorted_num = sorted(num)\n",
    "n = len(sorted_num)\n",
    "if n % 2 == 0:\n",
    "    median = (sorted_num[n //2-1] + sorted_num[n //2]) / 2 \n",
    "else :\n",
    "    madian = sorted_num[n // 2]\n",
    "\n",
    "counts = Counter(num)\n",
    "max_count = max (counts.values())\n",
    "mode = [num for num, count in counts.items() if count == max_count]\n",
    "\n",
    "print('mean:  ' , mean)\n",
    "print('median:  ',madian)\n",
    "print('mode:   ',mode)\n",
    "\n"
   ]
  },
  {
   "cell_type": "code",
   "execution_count": 11,
   "id": "3aa02f79-2148-489e-88a5-1d5cad5987ac",
   "metadata": {},
   "outputs": [
    {
     "name": "stdin",
     "output_type": "stream",
     "text": [
      "Enter the number of rows for Pascal's triangle:  6\n"
     ]
    },
    {
     "name": "stdout",
     "output_type": "stream",
     "text": [
      "1\n",
      "1 1\n",
      "1 2 1\n",
      "1 3 3 1\n",
      "1 4 6 4 1\n",
      "1 5 10 10 5 1\n"
     ]
    }
   ],
   "source": [
    "\"\"\"35. Create a program that generates Pascal's triangle up to a specified number of rows using list\n",
    "comprehension.\"\"\"\n",
    "\n",
    "def generate_pascals_triangle(rows):\n",
    "    if rows <= 0:\n",
    "        return []\n",
    "\n",
    "    triangle = [[1]]\n",
    "    \n",
    "    for i in range(1, rows):\n",
    "        row = [1] + [triangle[i - 1][j] + triangle[i - 1][j + 1] for j in range(len(triangle[i - 1]) - 1)] + [1]\n",
    "        triangle.append(row)\n",
    "    \n",
    "    return triangle\n",
    "\n",
    "def print_pascals_triangle(triangle):\n",
    "    for row in triangle:\n",
    "        print(\" \".join(map(str, row)))\n",
    "\n",
    "# Specify the number of rows for Pascal's triangle\n",
    "num_rows = int(input(\"Enter the number of rows for Pascal's triangle: \"))\n",
    "\n",
    "# Generate and print Pascal's triangle\n",
    "pascals_triangle = generate_pascals_triangle(num_rows)\n",
    "print_pascals_triangle(pascals_triangle)\n"
   ]
  },
  {
   "cell_type": "code",
   "execution_count": 13,
   "id": "20359266-5d38-4172-ac37-2e9d656b7d90",
   "metadata": {},
   "outputs": [
    {
     "name": "stdout",
     "output_type": "stream",
     "text": [
      "Factorial of 1 is 1, and the sum of its digits is 1\n",
      "Factorial of 2 is 2, and the sum of its digits is 2\n",
      "Factorial of 3 is 6, and the sum of its digits is 6\n",
      "Factorial of 4 is 24, and the sum of its digits is 6\n",
      "Factorial of 5 is 120, and the sum of its digits is 3\n"
     ]
    }
   ],
   "source": [
    "'''elop a program that calculates the sum of the digits of a factorial of numbers from 1 to 5 using list\n",
    "comprehension'''\n",
    "\n",
    "def factorial(n):\n",
    "    if n == 0 or n == 1:\n",
    "        return 1\n",
    "    else:\n",
    "        return n * factorial(n - 1)\n",
    "\n",
    "# Calculate the factorial of numbers from 1 to 5 using list comprehension\n",
    "factorials = [factorial(n) for n in range(1, 6)]\n",
    "\n",
    "# Calculate the sum of the digits of each factorial using list comprehension\n",
    "digit_sums = [sum(map(int, str(factorial))) for factorial in factorials]\n",
    "\n",
    "# Print the results\n",
    "for n, factorial, digit_sum in zip(range(1, 6), factorials, digit_sums):\n",
    "    print(f\"Factorial of {n} is {factorial}, and the sum of its digits is {digit_sum}\")\n"
   ]
  },
  {
   "cell_type": "code",
   "execution_count": 15,
   "id": "839e6a3e-b17f-4ebe-a429-565927556529",
   "metadata": {},
   "outputs": [
    {
     "name": "stdin",
     "output_type": "stream",
     "text": [
      "Enter a sentence:  njbjhj h\n"
     ]
    },
    {
     "name": "stdout",
     "output_type": "stream",
     "text": [
      "The longest word in the sentence is: njbjhj\n"
     ]
    }
   ],
   "source": [
    "#37. Write a program that finds the longest word in a sentence using list comprehension\n",
    "\n",
    "\n",
    "sentence = input(\"Enter a sentence: \")\n",
    "\n",
    "words = sentence.split()\n",
    "longest_word = max(words, key=lambda word: len(word))\n",
    "print(\"The longest word in the sentence is:\", longest_word)\n"
   ]
  },
  {
   "cell_type": "code",
   "execution_count": 23,
   "id": "495d6da0-ead8-408b-a77a-ba63f7286a82",
   "metadata": {},
   "outputs": [
    {
     "name": "stdout",
     "output_type": "stream",
     "text": [
      "Strings with more than three vowels: ['awesome']\n"
     ]
    }
   ],
   "source": [
    "'''38. Create a program that filters a list of strings to include only those with more than three vowels using list\n",
    "comprehension.'''\n",
    "\n",
    "def count_vowels(s):\n",
    "    vowels = \"AEIOUaeiou\"\n",
    "    return sum(1 for char in s if char in vowels)\n",
    "\n",
    "\n",
    "strings = [\"Hello\", \"Python\", \"is\", \"awesome\", \"and\", \"fun\"]\n",
    "\n",
    "filtered_strings = [string for string in strings if count_vowels(string) > 3]\n",
    "\n",
    "print(\"Strings with more than three vowels:\", filtered_strings)\n",
    "\n",
    "\n"
   ]
  },
  {
   "cell_type": "code",
   "execution_count": 5,
   "id": "c70228a5-6bfa-41d4-9521-34fd406c66dd",
   "metadata": {},
   "outputs": [
    {
     "name": "stdout",
     "output_type": "stream",
     "text": [
      "The sum of the digits of numbers from 1 to 1000 is: 13501\n",
      "The sum of the digits of numbers from 1 to 1000 is: 13501\n"
     ]
    }
   ],
   "source": [
    "'''39. Develop a program that calculates the sum of the digits of numbers from 1 to 1000 using list\n",
    "comprehension'''\n",
    "\n",
    "def sum_of_digits(number):\n",
    "    return sum(int(digit) for digit in str(number))\n",
    "\n",
    "digit_sums = [sum_of_digits(number) for number in range(1, 1001)]\n",
    "\n",
    "total_sum = sum(digit_sums)\n",
    "\n",
    "print(\"The sum of the digits of numbers from 1 to 1000 is:\", total_sum)\n",
    "\n",
    "\n",
    "\n",
    "\n",
    "digit_sums = [sum(int(digit) for digit in str(number)) for number in range(1, 1001)]\n",
    "\n",
    "total_sum = sum(digit_sums)\n",
    "\n",
    "print(\"The sum of the digits of numbers from 1 to 1000 is:\", total_sum)\n"
   ]
  },
  {
   "cell_type": "code",
   "execution_count": 4,
   "id": "cee6347f-bc77-4d7f-974f-69a4dc052a15",
   "metadata": {},
   "outputs": [
    {
     "name": "stdin",
     "output_type": "stream",
     "text": [
      "Enter the start of the range:  1\n",
      "Enter the end of the range:  5555\n"
     ]
    },
    {
     "name": "stdout",
     "output_type": "stream",
     "text": [
      "Prime palindromic numbers in the range: [2, 3, 5, 7, 11, 101, 131, 151, 181, 191, 313, 353, 373, 383, 727, 757, 787, 797, 919, 929]\n"
     ]
    }
   ],
   "source": [
    "#40. Write a program that generates a list of prime palindromic numbers using list comprehension\n",
    "\n",
    "\n",
    "def is_prime(num):\n",
    "    if num <= 1:\n",
    "        return False\n",
    "    if num <= 3:\n",
    "        return True\n",
    "    if num % 2 == 0 or num % 3 == 0:\n",
    "        return False\n",
    "    i = 5\n",
    "    while i * i <= num:\n",
    "        if num % i == 0 or num % (i + 2) == 0:\n",
    "            return False\n",
    "        i += 6\n",
    "    return True\n",
    "\n",
    "start = int(input(\"Enter the start of the range: \"))\n",
    "end = int(input(\"Enter the end of the range: \"))\n",
    "\n",
    "prime_palindromic_numbers = [num for num in range(start, end + 1) if is_prime(num) and str(num) == str(num)[::-1]]\n",
    "\n",
    "print(\"Prime palindromic numbers in the range:\", prime_palindromic_numbers)\n"
   ]
  },
  {
   "cell_type": "code",
   "execution_count": null,
   "id": "ad43dcae-355b-4063-bd36-4badde56f6b6",
   "metadata": {},
   "outputs": [],
   "source": []
  }
 ],
 "metadata": {
  "kernelspec": {
   "display_name": "Python 3 (ipykernel)",
   "language": "python",
   "name": "python3"
  },
  "language_info": {
   "codemirror_mode": {
    "name": "ipython",
    "version": 3
   },
   "file_extension": ".py",
   "mimetype": "text/x-python",
   "name": "python",
   "nbconvert_exporter": "python",
   "pygments_lexer": "ipython3",
   "version": "3.10.8"
  }
 },
 "nbformat": 4,
 "nbformat_minor": 5
}
